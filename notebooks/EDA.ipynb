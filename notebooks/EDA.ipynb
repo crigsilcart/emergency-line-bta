{
 "cells": [
  {
   "cell_type": "code",
   "execution_count": 2,
   "metadata": {},
   "outputs": [],
   "source": [
    "import pandas as pd"
   ]
  },
  {
   "cell_type": "code",
   "execution_count": 4,
   "metadata": {},
   "outputs": [
    {
     "name": "stderr",
     "output_type": "stream",
     "text": [
      "C:\\Users\\crisi\\AppData\\Roaming\\Python\\Python39\\site-packages\\IPython\\core\\interactiveshell.py:3441: DtypeWarning: Columns (5) have mixed types.Specify dtype option on import or set low_memory=False.\n",
      "  exec(code_obj, self.user_global_ns, self.user_ns)\n"
     ]
    },
    {
     "data": {
      "text/html": [
       "<div>\n",
       "<style scoped>\n",
       "    .dataframe tbody tr th:only-of-type {\n",
       "        vertical-align: middle;\n",
       "    }\n",
       "\n",
       "    .dataframe tbody tr th {\n",
       "        vertical-align: top;\n",
       "    }\n",
       "\n",
       "    .dataframe thead th {\n",
       "        text-align: right;\n",
       "    }\n",
       "</style>\n",
       "<table border=\"1\" class=\"dataframe\">\n",
       "  <thead>\n",
       "    <tr style=\"text-align: right;\">\n",
       "      <th></th>\n",
       "      <th>CANT_INCIDENTES</th>\n",
       "      <th>PCT</th>\n",
       "    </tr>\n",
       "    <tr>\n",
       "      <th>TIPO_DETALLE</th>\n",
       "      <th></th>\n",
       "      <th></th>\n",
       "    </tr>\n",
       "  </thead>\n",
       "  <tbody>\n",
       "    <tr>\n",
       "      <th>RIÑA</th>\n",
       "      <td>320486</td>\n",
       "      <td>18.406179</td>\n",
       "    </tr>\n",
       "    <tr>\n",
       "      <th>RUIDO</th>\n",
       "      <td>217835</td>\n",
       "      <td>12.510718</td>\n",
       "    </tr>\n",
       "    <tr>\n",
       "      <th>ACCIDENTE DE TRÁNSITO</th>\n",
       "      <td>151179</td>\n",
       "      <td>8.682525</td>\n",
       "    </tr>\n",
       "    <tr>\n",
       "      <th>VERIFICAR SITUACIÓN</th>\n",
       "      <td>97243</td>\n",
       "      <td>5.584868</td>\n",
       "    </tr>\n",
       "    <tr>\n",
       "      <th>MALTRATO</th>\n",
       "      <td>87527</td>\n",
       "      <td>5.026858</td>\n",
       "    </tr>\n",
       "    <tr>\n",
       "      <th>...</th>\n",
       "      <td>...</td>\n",
       "      <td>...</td>\n",
       "    </tr>\n",
       "    <tr>\n",
       "      <th>EVENTO NATURAL</th>\n",
       "      <td>178</td>\n",
       "      <td>0.010223</td>\n",
       "    </tr>\n",
       "    <tr>\n",
       "      <th>ACCIÓN SUBVERSIVA</th>\n",
       "      <td>20</td>\n",
       "      <td>0.001149</td>\n",
       "    </tr>\n",
       "    <tr>\n",
       "      <th>ACCIDENTE DE AVIACIÓN</th>\n",
       "      <td>4</td>\n",
       "      <td>0.000230</td>\n",
       "    </tr>\n",
       "    <tr>\n",
       "      <th>-</th>\n",
       "      <td>3</td>\n",
       "      <td>0.000172</td>\n",
       "    </tr>\n",
       "    <tr>\n",
       "      <th>ESTABLECIMIENTO ILEGAL PARA EL ABORTO</th>\n",
       "      <td>1</td>\n",
       "      <td>0.000057</td>\n",
       "    </tr>\n",
       "  </tbody>\n",
       "</table>\n",
       "<p>86 rows × 2 columns</p>\n",
       "</div>"
      ],
      "text/plain": [
       "                                       CANT_INCIDENTES        PCT\n",
       "TIPO_DETALLE                                                     \n",
       "RIÑA                                            320486  18.406179\n",
       "RUIDO                                           217835  12.510718\n",
       "ACCIDENTE DE TRÁNSITO                           151179   8.682525\n",
       "VERIFICAR SITUACIÓN                              97243   5.584868\n",
       "MALTRATO                                         87527   5.026858\n",
       "...                                                ...        ...\n",
       "EVENTO NATURAL                                     178   0.010223\n",
       "ACCIÓN SUBVERSIVA                                   20   0.001149\n",
       "ACCIDENTE DE AVIACIÓN                                4   0.000230\n",
       "-                                                    3   0.000172\n",
       "ESTABLECIMIENTO ILEGAL PARA EL ABORTO                1   0.000057\n",
       "\n",
       "[86 rows x 2 columns]"
      ]
     },
     "execution_count": 4,
     "metadata": {},
     "output_type": "execute_result"
    }
   ],
   "source": [
    "df = pd.read_csv(\"../data/llamadas_emargencia.csv\", sep=\";\", encoding='latin-1')\n",
    "df = df[df[\"ANIO\"]==2023]\n",
    "df_g = df.groupby([\"TIPO_DETALLE\"])[[\"CANT_INCIDENTES\"]].sum()\n",
    "df_g[\"PCT\"] = 100 * df_g[\"CANT_INCIDENTES\"]/df_g[\"CANT_INCIDENTES\"].sum()\n",
    "df_g = df_g.sort_values(by=\"CANT_INCIDENTES\", ascending=False)\n",
    "df_g"
   ]
  }
 ],
 "metadata": {
  "kernelspec": {
   "display_name": "Python 3",
   "language": "python",
   "name": "python3"
  },
  "language_info": {
   "codemirror_mode": {
    "name": "ipython",
    "version": 3
   },
   "file_extension": ".py",
   "mimetype": "text/x-python",
   "name": "python",
   "nbconvert_exporter": "python",
   "pygments_lexer": "ipython3",
   "version": "3.9.6"
  }
 },
 "nbformat": 4,
 "nbformat_minor": 2
}
